{
  "nbformat": 4,
  "nbformat_minor": 0,
  "metadata": {
    "colab": {
      "provenance": []
    },
    "kernelspec": {
      "name": "python3",
      "display_name": "Python 3"
    },
    "language_info": {
      "name": "python"
    }
  },
  "cells": [
    {
      "cell_type": "markdown",
      "source": [
        "## **Trabajo Práctico Final - Proyecto de Machine Learning para Logística Aérea: Optimización de tiempos de transporte aéreo**\n",
        "\n",
        "# **Grupo V - Integrantes:**\n",
        "\n",
        "**- GRACIELA ARIAS**\n",
        "\n",
        "**- SOFIA TSCHOPP**\n",
        "\n",
        "---\n",
        "\n"
      ],
      "metadata": {
        "id": "3KlzGH4RMtJ1"
      }
    },
    {
      "cell_type": "markdown",
      "source": [
        "# **Introducción y Objetivos**\n",
        "Este proyecto aborda la alta incertidumbre en el Tiempo de Tránsito Aéreo, el principal cuello de botella logístico. Desarrollamos un Modelo de Regresión de Machine Learning para identificar los factores operacionales ocultos (carriers, rutas) que causan esta variabilidad. Nuestro objetivo es reducir el Error (RMSE) a no más de 2 días, logrando un ETA significativamente más preciso.\n",
        "\n",
        "# **Comprensión del Negocio y Alcance**\n",
        "La dispersión actual del Tiempo de tránsito aéreo impacta negativamente la planificación y la satisfacción del cliente. El modelo usa datos reales de la importación de insumos mineros para generar un ETA confiable. La implementación final permitirá la gestión proactiva de proveedores y una planificación logística más eficiente al proveer fechas exactas."
      ],
      "metadata": {
        "id": "QQ5nNCXhP3fF"
      }
    },
    {
      "cell_type": "markdown",
      "source": [
        "**IMPORTACIÓN DE LIBRERÍAS**"
      ],
      "metadata": {
        "id": "7bwiq6U4PVrk"
      }
    },
    {
      "cell_type": "code",
      "source": [
        "import pandas as pd\n",
        "import numpy as np\n",
        "import matplotlib.pyplot as plt\n",
        "import seaborn as sns\n",
        "from sklearn.model_selection import train_test_split, KFold, cross_val_score\n",
        "from sklearn.preprocessing import OneHotEncoder, StandardScaler, MinMaxScaler\n",
        "from sklearn.compose import ColumnTransformer\n",
        "from sklearn.pipeline import Pipeline\n",
        "from sklearn.linear_model import LinearRegression\n",
        "from sklearn.ensemble import RandomForestRegressor, GradientBoostingRegressor\n",
        "import xgboost as xgb\n",
        "import lightgbm as lgb\n",
        "from sklearn.metrics import mean_squared_error, mean_absolute_error, r2_score\n",
        "%matplotlib inline\n",
        "import warnings\n",
        "warnings.filterwarnings('ignore')\n",
        "sns.set()\n",
        "from tensorflow.keras.models import Sequential\n",
        "from tensorflow.keras.layers import LSTM, Dense, Dropout\n",
        "import tensorflow as tf\n",
        "from sklearn.preprocessing import StandardScaler, MinMaxScaler\n",
        "from tensorflow.keras.optimizers import Adam\n",
        "from tensorflow.keras.metrics import RootMeanSquaredError\n",
        "from sklearn.metrics import mean_squared_error\n",
        "from scipy.stats import pearsonr\n"
      ],
      "metadata": {
        "collapsed": true,
        "id": "Qakq-5cvM34P"
      },
      "execution_count": 1,
      "outputs": []
    },
    {
      "cell_type": "markdown",
      "source": [],
      "metadata": {
        "id": "03BaM_lpytoN"
      }
    },
    {
      "cell_type": "markdown",
      "source": [
        "**IMPORTACIÓN DE DATASET**"
      ],
      "metadata": {
        "id": "VeMaQ-rHWSzC"
      }
    },
    {
      "cell_type": "code",
      "source": [
        "# Importamos el dataset desde github\n",
        "# Agregamos 'sep=;' para indicar que las columnas están separadas por punto y coma.\n",
        "\n",
        "RAW_URL = 'https://raw.githubusercontent.com/sofiayt2/Trabajo_Final_Grupo_V/refs/heads/main/DATASET_AEREOS.csv'\n",
        "\n",
        "df = pd.read_csv(RAW_URL, sep=';')"
      ],
      "metadata": {
        "id": "n6fgBu99WRlf"
      },
      "execution_count": 2,
      "outputs": []
    },
    {
      "cell_type": "markdown",
      "source": [
        "**INSPECCIÓN Y ANÁLISIS DE DATOS INICIAL**"
      ],
      "metadata": {
        "id": "lyeuJX6JZrqV"
      }
    },
    {
      "cell_type": "code",
      "source": [
        "# DIMENSIONES DEL DATAFRAME\n",
        "print(df.shape)"
      ],
      "metadata": {
        "colab": {
          "base_uri": "https://localhost:8080/"
        },
        "collapsed": true,
        "id": "snAa6FfZdbCy",
        "outputId": "e5999601-8699-4e8e-fb9e-e75cd97ea2a5"
      },
      "execution_count": 3,
      "outputs": [
        {
          "output_type": "stream",
          "name": "stdout",
          "text": [
            "(2640, 17)\n"
          ]
        }
      ]
    },
    {
      "cell_type": "code",
      "source": [
        "# PRIMERAS 5 FILAS\n",
        "print(df.head())"
      ],
      "metadata": {
        "colab": {
          "base_uri": "https://localhost:8080/"
        },
        "collapsed": true,
        "id": "BpzIlC4q4J4W",
        "outputId": "ac733bfc-c785-449b-d644-07954d60dc1a"
      },
      "execution_count": 4,
      "outputs": [
        {
          "output_type": "stream",
          "name": "stdout",
          "text": [
            "  Waybill (Reference)  MOT   Type of Service Forwarded Carrier  \\\n",
            "0           A12345678  AIR  STANDARD ECONOMY    TRANSIT XPRESS   \n",
            "1           A12345679  AIR  STANDARD ECONOMY    TRANSIT XPRESS   \n",
            "2           A12345680  AIR  STANDARD ECONOMY    TRANSIT XPRESS   \n",
            "3           A12345681  AIR  STANDARD ECONOMY    TRANSIT XPRESS   \n",
            "4           A12345682  AIR  STANDARD ECONOMY    TRANSIT XPRESS   \n",
            "\n",
            "   Total Invoice Value (USD)   Total Packages Total Gross Weight (Kilograms)  \\\n",
            "0                 $ 9.058,47                1                         142,00   \n",
            "1                $ 17.776,00                4                        1150,00   \n",
            "2                $ 12.016,20                2                        1870,00   \n",
            "3                 $ 5.471,74                3                        2445,00   \n",
            "4                    $ 19,99                1                           4,17   \n",
            "\n",
            "  Port Departure   Country  Port Arrival Target Date Carrier SLA Pickup Date  \\\n",
            "0        SVEDALA    SUECIA  BUENOS AIRES  05-01-2024  19-12-2023  11/12/2023   \n",
            "1      SANDVIKEN    SUECIA  BUENOS AIRES  04-03-2025  14-02-2025    7/2/2025   \n",
            "2        SVEDALA    SUECIA  BUENOS AIRES  28-03-2025  15-03-2025    3/3/2025   \n",
            "3        HAMBURG  ALEMANIA  BUENOS AIRES  24-12-2024  17-01-2025  29/11/2024   \n",
            "4      SANDVIKEN    SUECIA  BUENOS AIRES  04-10-2023  14-09-2023    7/9/2023   \n",
            "\n",
            "  Estimated time of delivery Actual time of delivery  \\\n",
            "0                 16/12/2023              16/12/2023   \n",
            "1                  11/2/2025               11/2/2025   \n",
            "2                   7/3/2025                8/3/2025   \n",
            "3                 16/12/2024              23/12/2024   \n",
            "4                  10/9/2023               10/9/2023   \n",
            "\n",
            "  Estimated time of arrival Actual time of arrival  \n",
            "0                19/12/2023             19/12/2023  \n",
            "1                 16/2/2025              17/2/2025  \n",
            "2                 17/3/2025              17/3/2025  \n",
            "3                 16/1/2025              17/1/2025  \n",
            "4                 10/9/2023              10/9/2023  \n"
          ]
        }
      ]
    },
    {
      "cell_type": "code",
      "source": [
        "# INFORMACIÓN Y TIPOS DE DATOS\n",
        "df.info()"
      ],
      "metadata": {
        "colab": {
          "base_uri": "https://localhost:8080/"
        },
        "collapsed": true,
        "id": "cRBvL61y4LgI",
        "outputId": "34aa8701-862e-4b45-9bea-50d6043eb779"
      },
      "execution_count": 5,
      "outputs": [
        {
          "output_type": "stream",
          "name": "stdout",
          "text": [
            "<class 'pandas.core.frame.DataFrame'>\n",
            "RangeIndex: 2640 entries, 0 to 2639\n",
            "Data columns (total 17 columns):\n",
            " #   Column                          Non-Null Count  Dtype \n",
            "---  ------                          --------------  ----- \n",
            " 0   Waybill (Reference)             2640 non-null   object\n",
            " 1   MOT                             2640 non-null   object\n",
            " 2   Type of Service                 2640 non-null   object\n",
            " 3   Forwarded Carrier               2640 non-null   object\n",
            " 4    Total Invoice Value (USD)      2640 non-null   object\n",
            " 5   Total Packages                  2640 non-null   int64 \n",
            " 6   Total Gross Weight (Kilograms)  2640 non-null   object\n",
            " 7   Port Departure                  2640 non-null   object\n",
            " 8   Country                         2640 non-null   object\n",
            " 9   Port Arrival                    2640 non-null   object\n",
            " 10  Target Date                     2627 non-null   object\n",
            " 11  Carrier SLA                     2637 non-null   object\n",
            " 12  Pickup Date                     2640 non-null   object\n",
            " 13  Estimated time of delivery      2639 non-null   object\n",
            " 14  Actual time of delivery         2640 non-null   object\n",
            " 15  Estimated time of arrival       2633 non-null   object\n",
            " 16  Actual time of arrival          2640 non-null   object\n",
            "dtypes: int64(1), object(16)\n",
            "memory usage: 350.8+ KB\n"
          ]
        }
      ]
    },
    {
      "cell_type": "code",
      "source": [
        "# LISTA DE COLUMNAS\n",
        "print(df.columns.tolist())"
      ],
      "metadata": {
        "colab": {
          "base_uri": "https://localhost:8080/"
        },
        "collapsed": true,
        "id": "dYn7zIg44NE1",
        "outputId": "db569f60-b634-4409-b136-166aed2768b1"
      },
      "execution_count": 6,
      "outputs": [
        {
          "output_type": "stream",
          "name": "stdout",
          "text": [
            "['Waybill (Reference)', 'MOT', 'Type of Service', 'Forwarded Carrier', ' Total Invoice Value (USD) ', 'Total Packages', 'Total Gross Weight (Kilograms)', 'Port Departure', 'Country', 'Port Arrival', 'Target Date', 'Carrier SLA', 'Pickup Date', 'Estimated time of delivery', 'Actual time of delivery', 'Estimated time of arrival', 'Actual time of arrival']\n"
          ]
        }
      ]
    },
    {
      "cell_type": "markdown",
      "source": [
        "**LIMPIEZA DE DATOS INICIAL**"
      ],
      "metadata": {
        "id": "Vs79Nb8yf2Ya"
      }
    },
    {
      "cell_type": "code",
      "source": [
        "# Se normalizan nombres de columnas quitando espacios y caracteres innecesarios:\n",
        "\n",
        "df.columns = (\n",
        "    df.columns.str.strip()\n",
        "    .str.lower()\n",
        "    .str.replace(' ', '_')\n",
        "    .str.replace('(', '', regex=False)\n",
        "    .str.replace(')', '', regex=False)\n",
        "    .str.replace('.', '', regex=False)\n",
        "    .str.replace('time_of_', '')\n",
        "    .str.replace('-', '_')\n",
        "    .str.replace('__', '_', regex=False)\n",
        ")"
      ],
      "metadata": {
        "id": "bGifPh9NhB1h"
      },
      "execution_count": 7,
      "outputs": []
    },
    {
      "cell_type": "code",
      "source": [
        "# Limpieza y conversión de columnas numéricas:\n",
        "\n",
        "# - Se quita puntuación y otros caracteres que puedan afectar los resultados (Ej. Signo \"$\", punto de miles)\n",
        "# - Reemplazo de coma decimal por punto decimal.\n",
        "# - Reemplazo de espacios vacíos y guiones por NaN.\n",
        "# - Convertir a número. Si encuentra texto o un valor inválido, lo cambia por un valor faltante (NaN).\n",
        "\n",
        "def clean_numeric_column(series, is_invoice=False):\n",
        "    series = series.astype(str).str.strip()\n",
        "    if is_invoice:\n",
        "        series = series.str.replace('$', '', regex=False).str.replace('.', '', regex=False).str.replace(',', '.', regex=False)\n",
        "        series = series.replace('', np.nan).replace('-', np.nan)\n",
        "    else:\n",
        "        series = series.str.replace(',', '.', regex=False)\n",
        "\n",
        "    return pd.to_numeric(series, errors='coerce')\n",
        "\n",
        "df['total_invoice_value_usd'] = clean_numeric_column(df['total_invoice_value_usd'], is_invoice=True)\n",
        "df['total_gross_weight_kilograms'] = clean_numeric_column(df['total_gross_weight_kilograms'])\n"
      ],
      "metadata": {
        "id": "AEgDFk4khW5E"
      },
      "execution_count": 8,
      "outputs": []
    },
    {
      "cell_type": "code",
      "source": [
        "# Limpieza de Fechas:\n",
        "\n",
        "# - Se le da formato uniforme a todas las celdas que contengan una fecha\n",
        "# - Se corrigen los errores de formato del excel que pueden hacer que la informacion sea invalida\n",
        "\n",
        "from datetime import datetime, timedelta\n",
        "OLE_TIME_ZERO = datetime(1899, 12, 30)\n",
        "def clean_date_column(series):\n",
        "    def convert_ole_date(value):\n",
        "        if pd.notna(value) and isinstance(value, (int, float)):\n",
        "            if value >= 60: value -= 1\n",
        "            return OLE_TIME_ZERO + timedelta(days=value)\n",
        "        return value\n",
        "\n",
        "    series = series.apply(convert_ole_date)\n",
        "    series = pd.to_datetime(series, dayfirst=True, errors='coerce')\n",
        "    return series\n",
        "\n",
        "date_cols = [col for col in df.columns if 'date' in col or 'arrival' in col or 'delivery' in col or 'sla' in col]\n",
        "for col in date_cols:\n",
        "    df[col] = clean_date_column(df[col])"
      ],
      "metadata": {
        "id": "yy6kFyzaiqdG"
      },
      "execution_count": 9,
      "outputs": []
    },
    {
      "cell_type": "code",
      "source": [
        "# Eliminación de Columnas Innecesarias (Por ejemplo, puerto de llegada Buenos Aires o tipo de transporte Aéreo ya que siempre se mantienen constantes).\n",
        "\n",
        "columns_to_drop = [\n",
        "    'waybill_reference',\n",
        "    'mot',\n",
        "    'port_arrival',\n",
        "    'total_invoice_value_usd',\n",
        "    'total_packages',\n",
        "]\n",
        "\n",
        "df = df.drop(columns=columns_to_drop, errors='ignore')"
      ],
      "metadata": {
        "collapsed": true,
        "id": "Cf7AsB4Nf7Gf"
      },
      "execution_count": 10,
      "outputs": []
    },
    {
      "cell_type": "code",
      "source": [
        "# COMPROBACIÓN DE VALORES FALTANTES\n",
        "\n",
        "print(df.isnull().sum())"
      ],
      "metadata": {
        "colab": {
          "base_uri": "https://localhost:8080/"
        },
        "collapsed": true,
        "id": "JBCFLap3glzc",
        "outputId": "36aaea5e-aab3-4a76-f67b-3546cab9a494"
      },
      "execution_count": 11,
      "outputs": [
        {
          "output_type": "stream",
          "name": "stdout",
          "text": [
            "type_of_service                   0\n",
            "forwarded_carrier                 0\n",
            "total_gross_weight_kilograms      0\n",
            "port_departure                    0\n",
            "country                           0\n",
            "target_date                     699\n",
            "carrier_sla                     699\n",
            "pickup_date                       0\n",
            "estimated_delivery                1\n",
            "actual_delivery                   0\n",
            "estimated_arrival                 7\n",
            "actual_arrival                    0\n",
            "dtype: int64\n"
          ]
        }
      ]
    },
    {
      "cell_type": "markdown",
      "source": [
        "# **FEATURE ENGINEERING: CÁLCULO DE TIEMPOS DE TRÁNSITO**"
      ],
      "metadata": {
        "id": "Nzjppx2il-Zc"
      }
    },
    {
      "cell_type": "code",
      "source": [
        "# Cálculo de las variables necesarias:\n",
        "\n",
        "df['transit_time_days_real'] = (df['actual_arrival'] - df['pickup_date']).dt.total_seconds() / (24 * 3600)\n",
        "\n",
        "df['transit_time_days_estimated'] = (df['estimated_arrival'] - df['pickup_date']).dt.total_seconds() / (24 * 3600)\n",
        "\n",
        "df['arrival_performance_days'] = (df['actual_arrival'] - df['estimated_arrival']).dt.total_seconds() / (24 * 3600)\n",
        "\n",
        "df_model = df.dropna(subset=['transit_time_days_real']).copy()\n",
        "rows_dropped = len(df) - len(df_model)\n",
        "\n",
        "df_model.info()\n",
        "\n",
        "# Guardado de la variable global\n",
        "globals()['df_model'] = df_model"
      ],
      "metadata": {
        "colab": {
          "base_uri": "https://localhost:8080/"
        },
        "collapsed": true,
        "id": "yJJ8EfHcmGmP",
        "outputId": "df805c57-725f-4263-b50d-ea447acfc883"
      },
      "execution_count": 12,
      "outputs": [
        {
          "output_type": "stream",
          "name": "stdout",
          "text": [
            "<class 'pandas.core.frame.DataFrame'>\n",
            "RangeIndex: 2640 entries, 0 to 2639\n",
            "Data columns (total 15 columns):\n",
            " #   Column                        Non-Null Count  Dtype         \n",
            "---  ------                        --------------  -----         \n",
            " 0   type_of_service               2640 non-null   object        \n",
            " 1   forwarded_carrier             2640 non-null   object        \n",
            " 2   total_gross_weight_kilograms  2640 non-null   float64       \n",
            " 3   port_departure                2640 non-null   object        \n",
            " 4   country                       2640 non-null   object        \n",
            " 5   target_date                   1941 non-null   datetime64[ns]\n",
            " 6   carrier_sla                   1941 non-null   datetime64[ns]\n",
            " 7   pickup_date                   2640 non-null   datetime64[ns]\n",
            " 8   estimated_delivery            2639 non-null   datetime64[ns]\n",
            " 9   actual_delivery               2640 non-null   datetime64[ns]\n",
            " 10  estimated_arrival             2633 non-null   datetime64[ns]\n",
            " 11  actual_arrival                2640 non-null   datetime64[ns]\n",
            " 12  transit_time_days_real        2640 non-null   float64       \n",
            " 13  transit_time_days_estimated   2633 non-null   float64       \n",
            " 14  arrival_performance_days      2633 non-null   float64       \n",
            "dtypes: datetime64[ns](7), float64(4), object(4)\n",
            "memory usage: 309.5+ KB\n"
          ]
        }
      ]
    },
    {
      "cell_type": "markdown",
      "source": [
        "# **ANÁLISIS UNIVARIADO**"
      ],
      "metadata": {
        "id": "NL6aHiBZnSIy"
      }
    },
    {
      "cell_type": "code",
      "source": [
        "# ANÁLISIS UNIVARIADO\n",
        "\n",
        "# BOXPLOT para visualizar la Mediana, los Cuartiles y los Outliers.\n",
        "\n",
        "plt.figure(figsize=(8, 10))\n",
        "sns.boxplot(y=df_model['transit_time_days_real'], color='#1f77b4', width=0.4, linewidth=1.5, flierprops={'marker': 'o', 'markerfacecolor': 'red', 'markersize': 8, 'linestyle': 'none'})\n",
        "\n",
        "median_val = df_model['transit_time_days_real'].median()\n",
        "mean_val = df_model['transit_time_days_real'].mean()\n",
        "\n",
        "plt.axhline(median_val, color='orange', linestyle='--', linewidth=2, label=f'Mediana ({median_val:.2f} días)')\n",
        "plt.axhline(mean_val, color='green', linestyle='-', linewidth=2, label=f'Media ({mean_val:.2f} días)')\n",
        "\n",
        "plt.title('Distribución de Riesgo del Tiempo de Tránsito Real (Box Plot)', fontsize=16)\n",
        "plt.ylabel('Tiempo de Tránsito Real (Días)', fontsize=12)\n",
        "plt.legend()\n",
        "plt.grid(axis='y', linestyle='--', alpha=0.7)\n",
        "plt.show()"
      ],
      "metadata": {
        "colab": {
          "base_uri": "https://localhost:8080/",
          "height": 832
        },
        "collapsed": true,
        "id": "93XstyvbHOin",
        "outputId": "dcbf7680-ffbb-40c2-fe7d-14e953e4aa60"
      },
      "execution_count": 13,
      "outputs": [
        {
          "output_type": "display_data",
          "data": {
            "text/plain": [
              "<Figure size 800x1000 with 1 Axes>"
            ],
            "image/png": "[encoded data removed]"
          },
          "metadata": {}
        }
      ]
    },
    {
      "cell_type": "code",
      "source": [
        "# ELIMINACIÓN DE OUTLIERS, ERRORES O VALORES ATÍPICOS\n",
        "\n",
        "# Calculamos el rango intercuartílico (IQR)\n",
        "Q1 = df_model['transit_time_days_real'].quantile(0.25)\n",
        "Q3 = df_model['transit_time_days_real'].quantile(0.75)\n",
        "IQR = Q3 - Q1\n",
        "\n",
        "# Definimos los límites para detectar outliers\n",
        "lower_bound = Q1 - 1.5 * IQR\n",
        "upper_bound = Q3 + 1.5 * IQR\n",
        "\n",
        "# Registrar el número de filas antes de la limpieza\n",
        "initial_rows = len(df_model)\n",
        "\n",
        "# Filtramos el DataFrame, manteniendo solo los valores dentro de los límites\n",
        "df_model_clean = df_model[\n",
        "    (df_model['transit_time_days_real'] >= lower_bound) &\n",
        "    (df_model['transit_time_days_real'] <= upper_bound)\n",
        "].copy()\n",
        "\n",
        "# Creamos nuevo dataframe sin outliers\n",
        "removed_outliers = initial_rows - len(df_model_clean)\n",
        "percentage_removed = (removed_outliers / initial_rows) * 100\n",
        "\n",
        "# Reemplazamos la variable df_model con la versión limpia para los modelos subsiguientes\n",
        "globals()['df_model'] = df_model_clean"
      ],
      "metadata": {
        "id": "8KAmPR_cKPAU"
      },
      "execution_count": 14,
      "outputs": []
    },
    {
      "cell_type": "markdown",
      "source": [
        "# **ANÁLISIS BIVARIADO**"
      ],
      "metadata": {
        "id": "ACXNGclGET97"
      }
    },
    {
      "cell_type": "code",
      "source": [
        "# Bivariado por País (Mediana)\n",
        "top_countries = df_model['country'].value_counts().nlargest(10).index\n",
        "df_top_countries = df_model[df_model['country'].isin(top_countries)]\n",
        "\n",
        "country_mean_time = df_top_countries.groupby('country')['transit_time_days_real'].median().sort_values(ascending=False)\n",
        "\n",
        "plt.figure(figsize=(12, 6))\n",
        "sns.barplot(x=country_mean_time.index, y=country_mean_time.values, palette=\"viridis\")\n",
        "plt.title('Tiempo de Tránsito Real (Mediana) por País de Origen (Top 10)')\n",
        "plt.xlabel('País de Origen')\n",
        "plt.ylabel('Mediana del Tiempo de Tránsito (Días)')\n",
        "plt.xticks(rotation=45, ha='right')\n",
        "plt.tight_layout()\n",
        "plt.show()\n"
      ],
      "metadata": {
        "colab": {
          "base_uri": "https://localhost:8080/",
          "height": 601
        },
        "collapsed": true,
        "id": "FG1Rqs6anxtM",
        "outputId": "7dfee17b-b2b5-41f4-8109-1d05c2e63d56"
      },
      "execution_count": 15,
      "outputs": [
        {
          "output_type": "display_data",
          "data": {
            "text/plain": [
              "<Figure size 1200x600 with 1 Axes>"
            ],
            "image/png": "[encoded data removed]"
          },
          "metadata": {}
        }
      ]
    },
    {
      "cell_type": "code",
      "source": [
        "# Gráfico de Barras de Tiempo de Tránsito Real por Carrier (Mediana)\n",
        "\n",
        "carrier_mean_time = df_model.groupby('forwarded_carrier')['transit_time_days_real'].median().sort_values(ascending=False)\n",
        "\n",
        "plt.figure(figsize=(8, 5))\n",
        "sns.barplot(x=carrier_mean_time.index, y=carrier_mean_time.values, palette=\"coolwarm\")\n",
        "plt.title('Tiempo de Tránsito Real (Mediana) por Carrier')\n",
        "plt.xlabel('Forwarded Carrier')\n",
        "plt.ylabel('Mediana del Tiempo de Tránsito (Días)')\n",
        "plt.show()"
      ],
      "metadata": {
        "colab": {
          "base_uri": "https://localhost:8080/",
          "height": 496
        },
        "collapsed": true,
        "id": "jpwmFr8ZoCCi",
        "outputId": "cd05931b-ab37-44e4-c291-69d5d671d208"
      },
      "execution_count": 16,
      "outputs": [
        {
          "output_type": "display_data",
          "data": {
            "text/plain": [
              "<Figure size 800x500 with 1 Axes>"
            ],
            "image/png": "[encoded data removed]"
          },
          "metadata": {}
        }
      ]
    },
    {
      "cell_type": "markdown",
      "source": [
        "# **PREPARACIÓN FINAL DE DATASET PARA APLICACIÓN DE MODELOS DE REGRESIÓN**"
      ],
      "metadata": {
        "id": "85BkrHsBpXYB"
      }
    },
    {
      "cell_type": "code",
      "source": [
        "print(df_model.columns.tolist())"
      ],
      "metadata": {
        "colab": {
          "base_uri": "https://localhost:8080/"
        },
        "id": "lRT2Q-DpRNGE",
        "outputId": "2f9a6854-3c57-45fb-b99b-0601796786f1"
      },
      "execution_count": 17,
      "outputs": [
        {
          "output_type": "stream",
          "name": "stdout",
          "text": [
            "['type_of_service', 'forwarded_carrier', 'total_gross_weight_kilograms', 'port_departure', 'country', 'target_date', 'carrier_sla', 'pickup_date', 'estimated_delivery', 'actual_delivery', 'estimated_arrival', 'actual_arrival', 'transit_time_days_real', 'transit_time_days_estimated', 'arrival_performance_days']\n"
          ]
        }
      ]
    },
    {
      "cell_type": "code",
      "source": [
        "# Se intercambian valores faltantes por la mediana.\n",
        "# Se hace una conversion logaritmica del peso del envio para tratar los outliers\n",
        "# Se eliminan columnas redundantes\n",
        "# Se eliminan columnas con fechas que no indiquen una cantidad de dias.\n",
        "# Se modifican columnas con datos categoricos para facilitar su uso en los modelos\n",
        "\n",
        "cols_to_impute_median = ['total_gross_weight_kilograms']\n",
        "for col in cols_to_impute_median:\n",
        "    if col in df_model.columns and df_model[col].isnull().any():\n",
        "        df_model[col] = df_model[col].fillna(df_model[col].median())\n",
        "\n",
        "df_model['log_weight'] = np.log1p(df_model['total_gross_weight_kilograms'])\n",
        "\n",
        "df_model = df_model.drop(columns=['total_gross_weight_kilograms'], errors='ignore')\n",
        "\n",
        "categorical_cols = ['country', 'forwarded_carrier', 'port_departure', 'type_of_service']\n",
        "df_model = pd.get_dummies(df_model, columns=categorical_cols, drop_first=True)\n",
        "\n",
        "date_cols_to_drop = [\n",
        "    col for col in df_model.columns\n",
        "    if any(date_part in col for date_part in ['date', 'arrival', 'delivery', 'sla'])\n",
        "    and 'days' not in col\n",
        "]\n",
        "df_model = df_model.drop(columns=date_cols_to_drop, errors='ignore')"
      ],
      "metadata": {
        "id": "KGeWEEdLpRns"
      },
      "execution_count": 18,
      "outputs": []
    },
    {
      "cell_type": "code",
      "source": [
        "# DIVISIÓN DE DATOS:\n",
        "\n",
        "# - Se define variable Target \"Y\"\n",
        "# - Se excluyen las columnas con el target y la metrica de rendimiento que se va a usar\n",
        "# - Se hace un ultimo chequeo por valores faltantes para evitar errores. Se reemplazan por la mediana.\n",
        "\n",
        "Y = df_model['transit_time_days_real']\n",
        "X = df_model.drop(columns=['transit_time_days_real', 'arrival_performance_days'])\n",
        "\n",
        "for col in X.columns:\n",
        "    if X[col].dtype != object and X[col].isnull().any():\n",
        "        X[col] = X[col].fillna(X[col].median())\n",
        "\n",
        "X_train, X_test, Y_train, Y_test = train_test_split(X, Y, test_size=0.2, random_state=42)"
      ],
      "metadata": {
        "id": "eqrlZKuOqCmM"
      },
      "execution_count": 19,
      "outputs": []
    },
    {
      "cell_type": "markdown",
      "source": [
        "# **MODELOS**"
      ],
      "metadata": {
        "id": "VKTLUysCTmAE"
      }
    },
    {
      "cell_type": "markdown",
      "source": [
        "# **1. REGRESIÓN LINEAL**"
      ],
      "metadata": {
        "id": "gxe1dW26pzWa"
      }
    },
    {
      "cell_type": "code",
      "source": [
        "lr_model = LinearRegression()\n",
        "lr_model.fit(X_train, Y_train)\n",
        "lr_predictions = lr_model.predict(X_test)\n",
        "lr_rmse = np.sqrt(mean_squared_error(Y_test, lr_predictions))\n",
        "lr_r2_final = r2_score(Y_test, lr_predictions) # Calculate and store R²\n",
        "\n",
        "print(\"--- RESULTADOS MODELO 1: REGRESIÓN LINEAL (BASELINE) ---\")\n",
        "print(f\"RMSE (Error Promedio): {lr_rmse:.2f} días\")\n",
        "print(f\"R²: {lr_r2_final:.3f}\") # Print R²"
      ],
      "metadata": {
        "colab": {
          "base_uri": "https://localhost:8080/"
        },
        "id": "hOnWn3Jxpw_s",
        "outputId": "2166f58d-4ad6-4aec-ba2a-39d2c7e0beeb"
      },
      "execution_count": 20,
      "outputs": [
        {
          "output_type": "stream",
          "name": "stdout",
          "text": [
            "--- RESULTADOS MODELO 1: REGRESIÓN LINEAL (BASELINE) ---\n",
            "RMSE (Error Promedio): 1.88 días\n",
            "R²: 0.625\n"
          ]
        }
      ]
    },
    {
      "cell_type": "markdown",
      "source": [
        "# **2. RANDOM FOREST REGRESSOR**"
      ],
      "metadata": {
        "id": "UHyYGp8dr97x"
      }
    },
    {
      "cell_type": "code",
      "source": [
        "rf_model = RandomForestRegressor(n_estimators=100, random_state=42, n_jobs=-1)\n",
        "rf_model.fit(X_train, Y_train)\n",
        "rf_predictions = rf_model.predict(X_test)\n",
        "rf_rmse = np.sqrt(mean_squared_error(Y_test, rf_predictions))\n",
        "rf_r2_final = r2_score(Y_test, rf_predictions) # Calculate and store R²\n",
        "\n",
        "\n",
        "print(\"--- RESULTADOS MODELO 2: RANDOM FOREST REGRESSOR ---\")\n",
        "print(f\"RMSE (Error Promedio): {rf_rmse:.2f} días\")\n",
        "print(f\"R²: {rf_r2_final:.3f}\") # Print R²"
      ],
      "metadata": {
        "colab": {
          "base_uri": "https://localhost:8080/"
        },
        "id": "6WjioIX0sGo1",
        "outputId": "2c133c22-ace4-4e7f-cfd3-c0aa6f4e5e40"
      },
      "execution_count": 21,
      "outputs": [
        {
          "output_type": "stream",
          "name": "stdout",
          "text": [
            "--- RESULTADOS MODELO 2: RANDOM FOREST REGRESSOR ---\n",
            "RMSE (Error Promedio): 1.96 días\n",
            "R²: 0.594\n"
          ]
        }
      ]
    },
    {
      "cell_type": "markdown",
      "source": [
        "# **3. MODELO XGBOOST REGRESSOR**"
      ],
      "metadata": {
        "id": "pZCBhvskSi3S"
      }
    },
    {
      "cell_type": "code",
      "source": [
        "# Modelado\n",
        "xgb_model = xgb.XGBRegressor(\n",
        "    objective='reg:squarederror', # Función de pérdida para regresión\n",
        "    n_estimators=100,             # Número de árboles\n",
        "    learning_rate=0.1,            # Tasa de aprendizaje\n",
        "    max_depth=5,                  # Profundidad máxima del árbol\n",
        "    random_state=42,\n",
        "    n_jobs=-1\n",
        ")\n",
        "\n",
        "# Entrenamiento\n",
        "xgb_model.fit(X_train, Y_train)\n",
        "\n",
        "# Predicción en el conjunto de prueba\n",
        "xgb_predictions = xgb_model.predict(X_test)\n",
        "\n",
        "# Evaluación\n",
        "xgb_mse = mean_squared_error(Y_test, xgb_predictions)\n",
        "xgb_rmse = np.sqrt(xgb_mse)\n",
        "xgb_r2 = r2_score(Y_test, xgb_predictions)\n",
        "\n",
        "print(\"--- RESULTADOS MODELO 3: XGBOOST REGRESSOR ---\")\n",
        "print(f\"XGBoost RMSE (Días): {xgb_rmse:.2f}\")\n",
        "print(f\"XGBoost R²: {xgb_r2:.3f}\")\n",
        "\n",
        "# Guardar la variable para la comparativa final\n",
        "xgb_rmse_final = xgb_rmse\n",
        "xgb_r2_final = xgb_r2"
      ],
      "metadata": {
        "colab": {
          "base_uri": "https://localhost:8080/"
        },
        "id": "RHNGTlYlmrnR",
        "outputId": "6dbcd321-687e-4d4e-eeb4-8aede481861b"
      },
      "execution_count": 22,
      "outputs": [
        {
          "output_type": "stream",
          "name": "stdout",
          "text": [
            "--- RESULTADOS MODELO 3: XGBOOST REGRESSOR ---\n",
            "XGBoost RMSE (Días): 1.80\n",
            "XGBoost R²: 0.656\n"
          ]
        }
      ]
    },
    {
      "cell_type": "markdown",
      "source": [
        "# **4. MODELO LSTM**"
      ],
      "metadata": {
        "id": "XgRI7b3qdV45"
      }
    },
    {
      "cell_type": "code",
      "source": [
        "# En este modelo volvemos a realizar varias comprobaciones y definir algunas variables.\n",
        "# El objetivo es poder ejecutar el codigo exitosamente y sin errores que hayan sido arrastrados de ejecuciones anteriores:\n",
        "\n",
        "date_cols = [\n",
        "    'actual_delivery',\n",
        "    'estimated_delivery',\n",
        "    'pickup_date',\n",
        "    'target_date',\n",
        "    'carrier_sla',\n",
        "    'estimated_arrival'\n",
        "]\n",
        "\n",
        "for col in date_cols:\n",
        "    df[col] = pd.to_datetime(df[col], dayfirst=True, errors='coerce')\n",
        "\n",
        "df['transit_time_days_real'] = (df['actual_delivery'] - df['pickup_date']).dt.days\n",
        "\n",
        "relevant_cols_lstm = date_cols + ['transit_time_days_real']\n",
        "df_model_lstm = df.dropna(subset=relevant_cols_lstm).copy()\n",
        "\n",
        "base_date = df_model_lstm['pickup_date'].min()\n",
        "\n",
        "df_model_lstm['transit_time_days_estimated'] = (df_model_lstm['estimated_delivery'] - df_model_lstm['pickup_date']).dt.days\n",
        "df_model_lstm['target_date_days'] = (df_model_lstm['target_date'] - base_date).dt.days\n",
        "df_model_lstm['carrier_sla_days'] = (df_model_lstm['carrier_sla'] - base_date).dt.days\n",
        "df_model_lstm['estimated_arrival_days'] = (df_model_lstm['estimated_arrival'] - base_date).dt.days # Nueva variable de días\n",
        "\n",
        "# DEFINICIÓN DE VARIABLES Y ESCALADO (Nombres Corregidos)\n",
        "\n",
        "\n",
        "time_features = [\n",
        "    'transit_time_days_estimated',\n",
        "    'carrier_sla_days',\n",
        "    'target_date_days',\n",
        "    'estimated_arrival_days',\n",
        "]\n",
        "TARGET = 'transit_time_days_real'\n",
        "N_TIMESTEPS = 4\n",
        "\n",
        "X = df_model_lstm[time_features].values\n",
        "Y = df_model_lstm[TARGET].values.reshape(-1, 1).astype(float)\n",
        "\n",
        "\n",
        "scaler_X = MinMaxScaler(feature_range=(0, 1))\n",
        "scaler_Y = MinMaxScaler(feature_range=(0, 1))\n",
        "\n",
        "\n",
        "X_scaled = scaler_X.fit_transform(X)\n",
        "Y_scaled = scaler_Y.fit_transform(Y)\n",
        "\n",
        "\n",
        "\n",
        "# Remodelar X a 3D\n",
        "X_3D = X_scaled.reshape(X_scaled.shape[0], N_TIMESTEPS, 1)\n",
        "\n",
        "# Dividir datos en entrenamiento y prueba\n",
        "X_train, X_test, Y_train, Y_test = train_test_split(\n",
        "    X_3D,\n",
        "    Y_scaled,\n",
        "    test_size=0.2,\n",
        "    shuffle=False,\n",
        "    random_state=42\n",
        ")\n",
        "\n",
        "\n",
        "#  CONSTRUCCIÓN Y ENTRENAMIENTO DEL MODELO LSTM\n",
        "\n",
        "lstm_model = Sequential([\n",
        "    LSTM(50, activation='relu', input_shape=(N_TIMESTEPS, 1), return_sequences=True),\n",
        "    Dropout(0.2),\n",
        "    LSTM(50, activation='relu'),\n",
        "    Dropout(0.2),\n",
        "    Dense(1)\n",
        "])\n",
        "\n",
        "lstm_model.compile(\n",
        "    optimizer=Adam(learning_rate=0.001),\n",
        "    loss='mse',\n",
        "    metrics=[RootMeanSquaredError()]\n",
        ")\n",
        "\n",
        "history = lstm_model.fit(\n",
        "    X_train,\n",
        "    Y_train,\n",
        "    epochs=50,\n",
        "    batch_size=32,\n",
        "    validation_split=0.1,\n",
        "    verbose=0\n",
        ")\n",
        "\n",
        "\n",
        "# PREDICCIÓN Y EVALUACIÓN\n",
        "\n",
        "from sklearn.metrics import mean_squared_error, mean_absolute_error, r2_score\n",
        "Y_pred_scaled = lstm_model.predict(X_test, verbose=0)\n",
        "\n",
        "Y_pred_real = scaler_Y.inverse_transform(Y_pred_scaled)\n",
        "Y_test_real = scaler_Y.inverse_transform(Y_test)\n",
        "\n",
        "mse = mean_squared_error(Y_test_real, Y_pred_real)\n",
        "rmse = np.sqrt(mse)\n",
        "mae = mean_absolute_error(Y_test_real, Y_pred_real)\n",
        "r2 = r2_score(Y_test_real, Y_pred_real)\n",
        "\n",
        "\n",
        "print(\"--- RESULTADOS MODELO 4: MODELO LSTM ---\")\n",
        "print(f\"Raíz del Error Cuadrático Medio (RMSE): {rmse:.4f} días\")\n",
        "print(f\"Error Absoluto Medio (MAE): {mae:.4f} días\")\n",
        "print(f\"Coeficiente de Determinación (R2 Score): {r2:.4f}\")"
      ],
      "metadata": {
        "colab": {
          "base_uri": "https://localhost:8080/"
        },
        "id": "ruDmOQZZhYxK",
        "outputId": "37ff1c1c-e28e-4297-cd28-2fec11cbc01c"
      },
      "execution_count": 23,
      "outputs": [
        {
          "output_type": "stream",
          "name": "stdout",
          "text": [
            "--- RESULTADOS MODELO 4: MODELO LSTM ---\n",
            "Raíz del Error Cuadrático Medio (RMSE): 15.8637 días\n",
            "Error Absoluto Medio (MAE): 1.5632 días\n",
            "Coeficiente de Determinación (R2 Score): 0.1657\n"
          ]
        }
      ]
    },
    {
      "cell_type": "markdown",
      "source": [
        "# **CUADRO COMPARATIVO FINAL DE MODELOS**"
      ],
      "metadata": {
        "id": "pn8FYaQnq_Bp"
      }
    },
    {
      "cell_type": "code",
      "source": [
        "\n",
        "print(\"---  ANÁLISIS COMPARATIVO DE MODELOS  ---\")\n",
        "print(\"RMSE de Benchmark (Desviación Estándar Histórica): 10.37 días\")\n",
        "\n",
        "lstm_rmse_days = rmse\n",
        "lstm_r2_days = r2\n",
        "\n",
        "\n",
        "data = {\n",
        "    'Modelo': ['Benchmark (Naive)', 'Regresión Lineal', 'Random Forest', 'XGBoost Regressor', 'LSTM Regressor'],\n",
        "    'RMSE (Días)': [10.37, lr_rmse, rf_rmse, xgb_rmse_final, lstm_rmse_days],\n",
        "    'R² (Varianza Explicada)': [0.00, lr_r2_final, rf_r2_final, xgb_r2_final, lstm_r2_days],\n",
        "\n",
        "}\n",
        "\n",
        "df_comparativa = pd.DataFrame(data)\n",
        "\n",
        "\n",
        "df_comparativa['RMSE (Días)'] = df_comparativa['RMSE (Días)'].round(2)\n",
        "df_comparativa['R² (Varianza Explicada)'] = df_comparativa['R² (Varianza Explicada)'].round(3)\n",
        "\n",
        "\n",
        "print(\"\\n\" + df_comparativa.to_markdown(index=False))\n",
        "\n",
        "\n",
        "mejores_modelos = df_comparativa[df_comparativa['Modelo'] != 'Benchmark (Naive)']\n",
        "mejor_modelo_nombre = mejores_modelos.loc[mejores_modelos['RMSE (Días)'].idxmin(), 'Modelo']\n",
        "mejor_modelo_rmse = mejores_modelos.loc[mejores_modelos['RMSE (Días)'].idxmin(), 'RMSE (Días)']"
      ],
      "metadata": {
        "id": "WVFthwxhnG3c",
        "colab": {
          "base_uri": "https://localhost:8080/"
        },
        "outputId": "d102a28a-ee5d-48fe-bcf2-9e5ef9902662"
      },
      "execution_count": 25,
      "outputs": [
        {
          "output_type": "stream",
          "name": "stdout",
          "text": [
            "---  ANÁLISIS COMPARATIVO DE MODELOS  ---\n",
            "RMSE de Benchmark (Desviación Estándar Histórica): 10.37 días\n",
            "\n",
            "| Modelo            |   RMSE (Días) |   R² (Varianza Explicada) |\n",
            "|:------------------|--------------:|--------------------------:|\n",
            "| Benchmark (Naive) |         10.37 |                     0     |\n",
            "| Regresión Lineal  |          1.88 |                     0.625 |\n",
            "| Random Forest     |          1.96 |                     0.594 |\n",
            "| XGBoost Regressor |          1.8  |                     0.656 |\n",
            "| LSTM Regressor    |         15.86 |                     0.166 |\n"
          ]
        }
      ]
    }
  ]
}