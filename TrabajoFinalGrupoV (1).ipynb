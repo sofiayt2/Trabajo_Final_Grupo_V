{
  "nbformat": 4,
  "nbformat_minor": 0,
  "metadata": {
    "colab": {
      "provenance": []
    },
    "kernelspec": {
      "name": "python3",
      "display_name": "Python 3"
    },
    "language_info": {
      "name": "python"
    }
  },
  "cells": [
    {
      "cell_type": "markdown",
      "source": [
        "# **Trabajo Práctico Final**"
      ],
      "metadata": {
        "id": "3KlzGH4RMtJ1"
      }
    },
    {
      "cell_type": "markdown",
      "source": [
        "Proyecto de Machine Learning para Logística Aérea: Optimización de tiempos de transporte aéreo\n",
        "\n",
        "Descripción General\n",
        "\n",
        "Comprensión del Negocio"
      ],
      "metadata": {
        "id": "QQ5nNCXhP3fF"
      }
    },
    {
      "cell_type": "markdown",
      "source": [
        "**IMPORTACIÓN DE LIBRERÍAS**"
      ],
      "metadata": {
        "id": "7bwiq6U4PVrk"
      }
    },
    {
      "cell_type": "code",
      "source": [
        "# Instalar CatBoost, ya que no viene preinstalada en Google Colab\n",
        "%pip install catboost\n",
        "\n",
        "# Librerías para manipulación y análisis de datos\n",
        "import pandas as pd\n",
        "import numpy as np\n",
        "\n",
        "# Librerías para visualización de datos\n",
        "import matplotlib.pyplot as plt\n",
        "import seaborn as sns\n",
        "\n",
        "# Librerías de Scikit-learn para el preprocesamiento y modelado\n",
        "from sklearn.model_selection import train_test_split, KFold, cross_val_score\n",
        "from sklearn.preprocessing import OneHotEncoder, StandardScaler, MinMaxScaler\n",
        "from sklearn.compose import ColumnTransformer\n",
        "from sklearn.pipeline import Pipeline\n",
        "\n",
        "# Librerías para modelos de regresión\n",
        "# Un modelo lineal simple como punto de partida (benchmark)\n",
        "from sklearn.linear_model import LinearRegression\n",
        "\n",
        "# Modelos de ensemble potentes para mayor precisión\n",
        "from sklearn.ensemble import RandomForestRegressor, GradientBoostingRegressor\n",
        "import xgboost as xgb # Se importa como 'xgb' por convención\n",
        "import lightgbm as lgb # Se importa como 'lgb' por convención\n",
        "from catboost import CatBoostRegressor\n",
        "\n",
        "# Métricas de evaluación para regresión\n",
        "from sklearn.metrics import mean_squared_error, mean_absolute_error, r2_score\n",
        "\n",
        "# Configuración para mostrar gráficos en el notebook\n",
        "%matplotlib inline\n",
        "\n",
        "# Configuración para ignorar advertencias y mejorar la visibilidad\n",
        "import warnings\n",
        "warnings.filterwarnings('ignore')\n",
        "\n",
        "# Configuración de Seaborn\n",
        "sns.set()\n",
        "\n",
        "# pip install kagglehub[pandas-datasets]\n",
        "import kagglehub\n",
        "from kagglehub import KaggleDatasetAdapter\n",
        "\n",
        "#Drive\n",
        "import os\n",
        "from google.colab import drive"
      ],
      "metadata": {
        "colab": {
          "base_uri": "https://localhost:8080/"
        },
        "collapsed": true,
        "id": "Qakq-5cvM34P",
        "outputId": "be772a6d-e607-4bc4-ef47-f403db26302f"
      },
      "execution_count": 4,
      "outputs": [
        {
          "output_type": "stream",
          "name": "stdout",
          "text": [
            "Requirement already satisfied: catboost in /usr/local/lib/python3.12/dist-packages (1.2.8)\n",
            "Requirement already satisfied: graphviz in /usr/local/lib/python3.12/dist-packages (from catboost) (0.21)\n",
            "Requirement already satisfied: matplotlib in /usr/local/lib/python3.12/dist-packages (from catboost) (3.10.0)\n",
            "Requirement already satisfied: numpy<3.0,>=1.16.0 in /usr/local/lib/python3.12/dist-packages (from catboost) (2.0.2)\n",
            "Requirement already satisfied: pandas>=0.24 in /usr/local/lib/python3.12/dist-packages (from catboost) (2.2.2)\n",
            "Requirement already satisfied: scipy in /usr/local/lib/python3.12/dist-packages (from catboost) (1.16.2)\n",
            "Requirement already satisfied: plotly in /usr/local/lib/python3.12/dist-packages (from catboost) (5.24.1)\n",
            "Requirement already satisfied: six in /usr/local/lib/python3.12/dist-packages (from catboost) (1.17.0)\n",
            "Requirement already satisfied: python-dateutil>=2.8.2 in /usr/local/lib/python3.12/dist-packages (from pandas>=0.24->catboost) (2.9.0.post0)\n",
            "Requirement already satisfied: pytz>=2020.1 in /usr/local/lib/python3.12/dist-packages (from pandas>=0.24->catboost) (2025.2)\n",
            "Requirement already satisfied: tzdata>=2022.7 in /usr/local/lib/python3.12/dist-packages (from pandas>=0.24->catboost) (2025.2)\n",
            "Requirement already satisfied: contourpy>=1.0.1 in /usr/local/lib/python3.12/dist-packages (from matplotlib->catboost) (1.3.3)\n",
            "Requirement already satisfied: cycler>=0.10 in /usr/local/lib/python3.12/dist-packages (from matplotlib->catboost) (0.12.1)\n",
            "Requirement already satisfied: fonttools>=4.22.0 in /usr/local/lib/python3.12/dist-packages (from matplotlib->catboost) (4.60.0)\n",
            "Requirement already satisfied: kiwisolver>=1.3.1 in /usr/local/lib/python3.12/dist-packages (from matplotlib->catboost) (1.4.9)\n",
            "Requirement already satisfied: packaging>=20.0 in /usr/local/lib/python3.12/dist-packages (from matplotlib->catboost) (25.0)\n",
            "Requirement already satisfied: pillow>=8 in /usr/local/lib/python3.12/dist-packages (from matplotlib->catboost) (11.3.0)\n",
            "Requirement already satisfied: pyparsing>=2.3.1 in /usr/local/lib/python3.12/dist-packages (from matplotlib->catboost) (3.2.4)\n",
            "Requirement already satisfied: tenacity>=6.2.0 in /usr/local/lib/python3.12/dist-packages (from plotly->catboost) (8.5.0)\n"
          ]
        }
      ]
    },
    {
      "cell_type": "markdown",
      "source": [
        "**VINCULAR GOOGLE DRIVE**"
      ],
      "metadata": {
        "id": "VeMaQ-rHWSzC"
      }
    },
    {
      "cell_type": "code",
      "source": [
        "# Montar Drive\n",
        "drive.mount('/content/drive')\n",
        "\n",
        "# Definir ruta del archivo kaggle.json en Drive\n",
        "DRIVE_KAGGLE_PATH = 'Mi unidad/kaggle/kaggle.json'\n"
      ],
      "metadata": {
        "colab": {
          "base_uri": "https://localhost:8080/"
        },
        "id": "n6fgBu99WRlf",
        "outputId": "0cee2b48-3f29-4c1f-9a4e-f8af68cac752"
      },
      "execution_count": 14,
      "outputs": [
        {
          "output_type": "stream",
          "name": "stdout",
          "text": [
            "Drive already mounted at /content/drive; to attempt to forcibly remount, call drive.mount(\"/content/drive\", force_remount=True).\n"
          ]
        }
      ]
    },
    {
      "cell_type": "code",
      "source": [
        "# 3. Crear el directorio de configuración de Kaggle si no existe\n",
        "KAGGLE_CONFIG_DIR = os.path.expanduser('~/.kaggle')\n",
        "if not os.path.exists(KAGGLE_CONFIG_DIR):\n",
        "    print(f\"Creando directorio: {KAGGLE_CONFIG_DIR}\")\n",
        "    os.makedirs(KAGGLE_CONFIG_DIR)\n",
        "\n",
        "# 4. Copiar el archivo desde Drive al directorio de Kaggle\n",
        "if os.path.exists(DRIVE_KAGGLE_PATH):\n",
        "    print(f\"Copiando {DRIVE_KAGGLE_PATH} a {KAGGLE_CONFIG_DIR}/kaggle.json\")\n",
        "    !cp \"{DRIVE_KAGGLE_PATH}\" {KAGGLE_CONFIG_DIR}/kaggle.json\n",
        "\n",
        "    # 5. Dar los permisos necesarios (obligatorio)\n",
        "    !chmod 600 {KAGGLE_CONFIG_DIR}/kaggle.json\n",
        "    print(\"\\n¡Autenticación de Kaggle completada con éxito!\")\n",
        "else:\n",
        "    print(f\"\\n¡ADVERTENCIA! No se encontró el archivo kaggle.json en: {DRIVE_KAGGLE_PATH}\")\n",
        "    print(\"Asegúrate de haberlo subido a tu Drive en esa ubicación.\")"
      ],
      "metadata": {
        "colab": {
          "base_uri": "https://localhost:8080/"
        },
        "id": "WVWvXEPpYDuE",
        "outputId": "f81a7ac6-4139-432e-9804-0013ef6275eb"
      },
      "execution_count": 15,
      "outputs": [
        {
          "output_type": "stream",
          "name": "stdout",
          "text": [
            "\n",
            "¡ADVERTENCIA! No se encontró el archivo kaggle.json en: Mi unidad/kaggle/kaggle.json\n",
            "Asegúrate de haberlo subido a tu Drive en esa ubicación.\n"
          ]
        }
      ]
    },
    {
      "cell_type": "markdown",
      "source": [
        "**IMPORTACIÓN DE DATASET**"
      ],
      "metadata": {
        "id": "ITk-OBYYPp9a"
      }
    },
    {
      "cell_type": "code",
      "source": [
        "# Instalar la librería de la API de Kaggle\n",
        "%pip install kaggle\n",
        "\n",
        "from google.colab import files\n",
        "import os\n",
        "import zipfile\n",
        "from kaggle.api.kaggle_api_extended import KaggleApi\n"
      ],
      "metadata": {
        "colab": {
          "base_uri": "https://localhost:8080/",
          "height": 582
        },
        "collapsed": true,
        "id": "VjylsfwdM2Cg",
        "outputId": "9084fccb-2648-49e7-9845-ec3677103546"
      },
      "execution_count": 3,
      "outputs": [
        {
          "output_type": "stream",
          "name": "stdout",
          "text": [
            "Requirement already satisfied: kaggle in /usr/local/lib/python3.12/dist-packages (1.7.4.5)\n",
            "Requirement already satisfied: bleach in /usr/local/lib/python3.12/dist-packages (from kaggle) (6.2.0)\n",
            "Requirement already satisfied: certifi>=14.05.14 in /usr/local/lib/python3.12/dist-packages (from kaggle) (2025.8.3)\n",
            "Requirement already satisfied: charset-normalizer in /usr/local/lib/python3.12/dist-packages (from kaggle) (3.4.3)\n",
            "Requirement already satisfied: idna in /usr/local/lib/python3.12/dist-packages (from kaggle) (3.10)\n",
            "Requirement already satisfied: protobuf in /usr/local/lib/python3.12/dist-packages (from kaggle) (5.29.5)\n",
            "Requirement already satisfied: python-dateutil>=2.5.3 in /usr/local/lib/python3.12/dist-packages (from kaggle) (2.9.0.post0)\n",
            "Requirement already satisfied: python-slugify in /usr/local/lib/python3.12/dist-packages (from kaggle) (8.0.4)\n",
            "Requirement already satisfied: requests in /usr/local/lib/python3.12/dist-packages (from kaggle) (2.32.4)\n",
            "Requirement already satisfied: setuptools>=21.0.0 in /usr/local/lib/python3.12/dist-packages (from kaggle) (75.2.0)\n",
            "Requirement already satisfied: six>=1.10 in /usr/local/lib/python3.12/dist-packages (from kaggle) (1.17.0)\n",
            "Requirement already satisfied: text-unidecode in /usr/local/lib/python3.12/dist-packages (from kaggle) (1.3)\n",
            "Requirement already satisfied: tqdm in /usr/local/lib/python3.12/dist-packages (from kaggle) (4.67.1)\n",
            "Requirement already satisfied: urllib3>=1.15.1 in /usr/local/lib/python3.12/dist-packages (from kaggle) (2.5.0)\n",
            "Requirement already satisfied: webencodings in /usr/local/lib/python3.12/dist-packages (from kaggle) (0.5.1)\n"
          ]
        },
        {
          "output_type": "error",
          "ename": "OSError",
          "evalue": "Could not find kaggle.json. Make sure it's located in /root/.config/kaggle. Or use the environment method. See setup instructions at https://github.com/Kaggle/kaggle-api/",
          "traceback": [
            "\u001b[0;31m---------------------------------------------------------------------------\u001b[0m",
            "\u001b[0;31mOSError\u001b[0m                                   Traceback (most recent call last)",
            "\u001b[0;32m/tmp/ipython-input-359739978.py\u001b[0m in \u001b[0;36m<cell line: 0>\u001b[0;34m()\u001b[0m\n\u001b[1;32m      5\u001b[0m \u001b[0;32mimport\u001b[0m \u001b[0mos\u001b[0m\u001b[0;34m\u001b[0m\u001b[0;34m\u001b[0m\u001b[0m\n\u001b[1;32m      6\u001b[0m \u001b[0;32mimport\u001b[0m \u001b[0mzipfile\u001b[0m\u001b[0;34m\u001b[0m\u001b[0;34m\u001b[0m\u001b[0m\n\u001b[0;32m----> 7\u001b[0;31m \u001b[0;32mfrom\u001b[0m \u001b[0mkaggle\u001b[0m\u001b[0;34m.\u001b[0m\u001b[0mapi\u001b[0m\u001b[0;34m.\u001b[0m\u001b[0mkaggle_api_extended\u001b[0m \u001b[0;32mimport\u001b[0m \u001b[0mKaggleApi\u001b[0m\u001b[0;34m\u001b[0m\u001b[0;34m\u001b[0m\u001b[0m\n\u001b[0m",
            "\u001b[0;32m/usr/local/lib/python3.12/dist-packages/kaggle/__init__.py\u001b[0m in \u001b[0;36m<module>\u001b[0;34m\u001b[0m\n\u001b[1;32m      4\u001b[0m \u001b[0;34m\u001b[0m\u001b[0m\n\u001b[1;32m      5\u001b[0m \u001b[0mapi\u001b[0m \u001b[0;34m=\u001b[0m \u001b[0mKaggleApi\u001b[0m\u001b[0;34m(\u001b[0m\u001b[0;34m)\u001b[0m\u001b[0;34m\u001b[0m\u001b[0;34m\u001b[0m\u001b[0m\n\u001b[0;32m----> 6\u001b[0;31m \u001b[0mapi\u001b[0m\u001b[0;34m.\u001b[0m\u001b[0mauthenticate\u001b[0m\u001b[0;34m(\u001b[0m\u001b[0;34m)\u001b[0m\u001b[0;34m\u001b[0m\u001b[0;34m\u001b[0m\u001b[0m\n\u001b[0m",
            "\u001b[0;32m/usr/local/lib/python3.12/dist-packages/kaggle/api/kaggle_api_extended.py\u001b[0m in \u001b[0;36mauthenticate\u001b[0;34m(self)\u001b[0m\n\u001b[1;32m    432\u001b[0m         \u001b[0;32mreturn\u001b[0m\u001b[0;34m\u001b[0m\u001b[0;34m\u001b[0m\u001b[0m\n\u001b[1;32m    433\u001b[0m       \u001b[0;32melse\u001b[0m\u001b[0;34m:\u001b[0m\u001b[0;34m\u001b[0m\u001b[0;34m\u001b[0m\u001b[0m\n\u001b[0;32m--> 434\u001b[0;31m         raise IOError('Could not find {}. Make sure it\\'s located in'\n\u001b[0m\u001b[1;32m    435\u001b[0m                       \u001b[0;34m' {}. Or use the environment method. See setup'\u001b[0m\u001b[0;34m\u001b[0m\u001b[0;34m\u001b[0m\u001b[0m\n\u001b[1;32m    436\u001b[0m                       \u001b[0;34m' instructions at'\u001b[0m\u001b[0;34m\u001b[0m\u001b[0;34m\u001b[0m\u001b[0m\n",
            "\u001b[0;31mOSError\u001b[0m: Could not find kaggle.json. Make sure it's located in /root/.config/kaggle. Or use the environment method. See setup instructions at https://github.com/Kaggle/kaggle-api/"
          ]
        }
      ]
    },
    {
      "cell_type": "code",
      "source": [
        "print(\"Sube tu archivo kaggle.json (lo obtienes desde tu perfil de Kaggle):\")\n",
        "uploaded = files.upload()"
      ],
      "metadata": {
        "id": "y3wBY5xxXCiI"
      },
      "execution_count": null,
      "outputs": []
    },
    {
      "cell_type": "code",
      "source": [
        "import os\n",
        "import zipfile\n",
        "from kaggle.api.kaggle_api_extended import KaggleApi\n",
        "\n",
        "os.environ['KAGGLE_CONFIG_DIR'] = \"/content\"\n",
        "# Create the default Kaggle config directory if it doesn't exist\n",
        "os.makedirs(\"/root/.config/kaggle\", exist_ok=True)\n",
        "\n",
        "# Find the uploaded kaggle.json file, even if it was renamed by Colab\n",
        "kaggle_json_filename = None\n",
        "for filename in uploaded.keys():\n",
        "    if 'kaggle.json' in filename:\n",
        "        kaggle_json_filename = filename\n",
        "        break\n",
        "\n",
        "if kaggle_json_filename is None:\n",
        "    print(\"Error: kaggle.json file not found in the uploaded files.\")\n",
        "else:\n",
        "    with open(\"/content/.kaggle/kaggle.json\", \"w\") as f:\n",
        "        f.write(uploaded[kaggle_json_filename].decode(\"utf-8\"))\n",
        "    os.chmod(\"/content/.kaggle/kaggle.json\", 0o600)\n",
        "    # Copy kaggle.json to the default Kaggle config directory\n",
        "    os.rename(\"/content/.kaggle/kaggle.json\", \"/root/.config/kaggle/kaggle.json\")"
      ],
      "metadata": {
        "id": "-227AXmiXMo1"
      },
      "execution_count": null,
      "outputs": []
    },
    {
      "cell_type": "code",
      "source": [
        "print(\"\\nDescargando el dataset desde Kaggle...\")\n",
        "api = KaggleApi()\n",
        "api.authenticate()\n",
        "api.dataset_download_files('sofiayasmintschopp/datasetvuelosarg', path='./', unzip=True)"
      ],
      "metadata": {
        "collapsed": true,
        "id": "1AWIpT3LXRy5"
      },
      "execution_count": null,
      "outputs": []
    },
    {
      "cell_type": "code",
      "metadata": {
        "id": "2c2f302f"
      },
      "source": [
        "# Cargar el archivo CSV en un DataFrame de pandas\n",
        "# Asegúrate de que este es el nombre correcto del archivo CSV\n",
        "df = pd.read_csv('DatasetVuelosArg.csv', sep=';')"
      ],
      "execution_count": null,
      "outputs": []
    },
    {
      "cell_type": "markdown",
      "source": [
        "**INSPECCIÓN Y ANÁLISIS DE DATOS INICIAL**"
      ],
      "metadata": {
        "id": "lyeuJX6JZrqV"
      }
    },
    {
      "cell_type": "code",
      "source": [
        "df.head()"
      ],
      "metadata": {
        "collapsed": true,
        "id": "qHiV7a0Ma7SY"
      },
      "execution_count": null,
      "outputs": []
    },
    {
      "cell_type": "code",
      "source": [
        "df.info()"
      ],
      "metadata": {
        "collapsed": true,
        "id": "iJhX0S9hdsf9"
      },
      "execution_count": null,
      "outputs": []
    },
    {
      "cell_type": "code",
      "source": [
        "df.shape"
      ],
      "metadata": {
        "collapsed": true,
        "id": "AoXhXO_mdt03"
      },
      "execution_count": null,
      "outputs": []
    },
    {
      "cell_type": "code",
      "source": [
        "df.describe()"
      ],
      "metadata": {
        "collapsed": true,
        "id": "APybK5nRdvif"
      },
      "execution_count": null,
      "outputs": []
    },
    {
      "cell_type": "markdown",
      "source": [
        "**LIMPIEZA DE DATOS**"
      ],
      "metadata": {
        "id": "Vs79Nb8yf2Ya"
      }
    },
    {
      "cell_type": "code",
      "source": [
        "# ELIMINACIÓN DE COLUMNAS INNECESARIAS\n",
        "\n",
        "columnas_a_mantener = [\n",
        "    'Origin City', 'Origin Cntry',\n",
        "    'Destin City', 'Destin Cntry', 'Service Level', 'Actual Weight',\n",
        "    'Charge Weight', 'Pickup Date', 'Actual Departure', 'Actual Arrival',\n",
        "    'Goods Description', 'Pieces', 'Estimated Arrival'\n",
        "]\n",
        "\n",
        "df = df[columnas_a_mantener]\n",
        "print(df.columns)"
      ],
      "metadata": {
        "collapsed": true,
        "id": "Cf7AsB4Nf7Gf"
      },
      "execution_count": null,
      "outputs": []
    },
    {
      "cell_type": "code",
      "source": [
        "df.head()"
      ],
      "metadata": {
        "collapsed": true,
        "id": "heGGz5fNgMCQ"
      },
      "execution_count": null,
      "outputs": []
    },
    {
      "cell_type": "code",
      "source": [
        "# MANEJO DE VALORES FALTANTES\n",
        "\n",
        "# COMPROBACIÓN DE VALORES FALTANTES\n",
        "\n",
        "print(df.isnull().sum())"
      ],
      "metadata": {
        "collapsed": true,
        "id": "JBCFLap3glzc"
      },
      "execution_count": null,
      "outputs": []
    },
    {
      "cell_type": "code",
      "source": [
        "# ELIMINAR FILAS CON FECHAS DE SALIDA Y ARRIBO FALTANTES\n",
        "\n",
        "df.dropna(subset=['Pickup Date', 'Actual Departure', 'Actual Arrival'], inplace=True)"
      ],
      "metadata": {
        "id": "0AVtZPUihJAG"
      },
      "execution_count": null,
      "outputs": []
    },
    {
      "cell_type": "markdown",
      "source": [
        "**CONVERSIÓN DE DATOS**"
      ],
      "metadata": {
        "id": "1xjPAE80hcxp"
      }
    },
    {
      "cell_type": "code",
      "source": [
        "# CONVERSIÓN DE FECHAS A FORMATO DATETIME\n",
        "\n",
        "df['Pickup Date'] = pd.to_datetime(df['Pickup Date'])\n",
        "df['Actual Departure'] = pd.to_datetime(df['Actual Departure'])\n",
        "df['Actual Arrival'] = pd.to_datetime(df['Actual Arrival'])\n",
        "df['Estimated Arrival'] = pd.to_datetime(df['Estimated Arrival'])"
      ],
      "metadata": {
        "collapsed": true,
        "id": "XeulAKp5hcGT"
      },
      "execution_count": null,
      "outputs": []
    },
    {
      "cell_type": "markdown",
      "source": [
        "**CREACIÓN DE VARIABLE OBJETIVO - TIEMPO DE TRÁNSITO**"
      ],
      "metadata": {
        "id": "nPOpNGOQnjqM"
      }
    },
    {
      "cell_type": "code",
      "source": [
        "df['dias_transito'] = (df['Actual Arrival'] - df['Pickup Date']).dt.days"
      ],
      "metadata": {
        "id": "-Ht-3vHqnmca"
      },
      "execution_count": null,
      "outputs": []
    },
    {
      "cell_type": "code",
      "source": [
        "# ELIMINACIÓN DE VALORES ATÍPICOS (Días de tránsito no negativo)\n",
        "\n",
        "# Filtrar para valores lógicos (ej. tiempo de tránsito no negativo)\n",
        "df = df[df['dias_transito'] >= 0]\n",
        "print(\"Valores atípicos eliminados (días de tránsito negativos).\")"
      ],
      "metadata": {
        "id": "_LIeXgWpooGK"
      },
      "execution_count": null,
      "outputs": []
    },
    {
      "cell_type": "code",
      "source": [
        "df.info()"
      ],
      "metadata": {
        "collapsed": true,
        "id": "xMZ9eSBep99x"
      },
      "execution_count": null,
      "outputs": []
    },
    {
      "cell_type": "code",
      "source": [
        "df.head()"
      ],
      "metadata": {
        "collapsed": true,
        "id": "fqjJZaVEqOUq"
      },
      "execution_count": null,
      "outputs": []
    },
    {
      "cell_type": "markdown",
      "source": [
        "**ANÁLISIS DE LA VARIABLE OBJETIVO**"
      ],
      "metadata": {
        "id": "nwTnkpj0rKch"
      }
    },
    {
      "cell_type": "code",
      "source": [
        "# Histograma de la distribución del tiempo de tránsito\n",
        "\n",
        "plt.figure(figsize=(10, 6))\n",
        "sns.histplot(df['dias_transito'], kde=True, bins=30)\n",
        "plt.title('Distribución de los Días de Tránsito')\n",
        "plt.xlabel('Días de Tránsito')\n",
        "plt.ylabel('Frecuencia')\n",
        "plt.show()"
      ],
      "metadata": {
        "collapsed": true,
        "id": "wr9NLp-WrN5P"
      },
      "execution_count": null,
      "outputs": []
    },
    {
      "cell_type": "code",
      "source": [
        "# Boxplot para identificar valores atípicos (outliers)\n",
        "\n",
        "plt.figure(figsize=(10, 2))\n",
        "sns.boxplot(x=df['dias_transito'])\n",
        "plt.title('Boxplot de Días de Tránsito para identificar outliers')\n",
        "plt.xlabel('Días de Tránsito')\n",
        "plt.show()"
      ],
      "metadata": {
        "id": "EUC_xoF3rdKG"
      },
      "execution_count": null,
      "outputs": []
    },
    {
      "cell_type": "code",
      "source": [
        "# ELIMINACIÓN DE OUTLIERS\n",
        "\n",
        "# Calculamos el rango intercuartílico (IQR) para 'dias_transito'\n",
        "Q1 = df['dias_transito'].quantile(0.25)\n",
        "Q3 = df['dias_transito'].quantile(0.75)\n",
        "IQR = Q3 - Q1\n",
        "\n",
        "# Definimos los límites para detectar outliers\n",
        "lower_bound = Q1 - 1.5 * IQR\n",
        "upper_bound = Q3 + 1.5 * IQR\n",
        "\n",
        "# Filtramos el DataFrame, manteniendo solo los valores dentro de los límites\n",
        "df_sin_outliers = df[(df['dias_transito'] >= lower_bound) & (df['dias_transito'] <= upper_bound)].copy()\n",
        "\n",
        "print(f\"Filas originales: {df.shape[0]}\")\n",
        "print(f\"Filas después de eliminar outliers: {df_sin_outliers.shape[0]}\")\n",
        "print(f\"Número de outliers eliminados: {df.shape[0] - df_sin_outliers.shape[0]}\")\n",
        "\n",
        "# Usamos el nuevo DataFrame sin outliers para el resto del análisis\n",
        "df = df_sin_outliers\n",
        "\n",
        "# Volvemos a visualizar el boxplot para confirmar que los outliers han sido eliminados\n",
        "plt.figure(figsize=(10, 2))\n",
        "sns.boxplot(x=df['dias_transito'])\n",
        "plt.title('Boxplot de Días de Tránsito después de eliminar outliers')\n",
        "plt.xlabel('Días de Tránsito')\n",
        "plt.show()"
      ],
      "metadata": {
        "collapsed": true,
        "id": "LB4_p-rir7fp"
      },
      "execution_count": null,
      "outputs": []
    },
    {
      "cell_type": "markdown",
      "source": [
        "ANÁLISIS DE VARIABLES CATEGÓRICAS"
      ],
      "metadata": {
        "id": "eAXzyT5-szcQ"
      }
    },
    {
      "cell_type": "code",
      "source": [
        "# Gráfico de barras de los 10 países de origen más comunes (ver si lo dejamos)\n",
        "plt.figure(figsize=(12, 6))\n",
        "df['Origin Cntry'].value_counts().nlargest(10).plot(kind='bar')\n",
        "plt.title('Top 10 Países de Origen')\n",
        "plt.xlabel('País')\n",
        "plt.ylabel('Cantidad de Envíos')\n",
        "plt.xticks(rotation=45, ha='right')\n",
        "plt.show()\n",
        "\n",
        "# Gráfico de barras de los niveles de servicio\n",
        "plt.figure(figsize=(10, 6))\n",
        "df['Service Level'].value_counts().plot(kind='bar')\n",
        "plt.title('Frecuencia de Niveles de Servicio')\n",
        "plt.xlabel('Nivel de Servicio')\n",
        "plt.ylabel('Cantidad de Envíos')\n",
        "plt.xticks(rotation=45, ha='right')\n",
        "plt.show()"
      ],
      "metadata": {
        "collapsed": true,
        "id": "mYX71VDnsuPp"
      },
      "execution_count": null,
      "outputs": []
    },
    {
      "cell_type": "markdown",
      "source": [
        "**ANÁLISIS DE RELACIONES ENTRE VARIABLES**"
      ],
      "metadata": {
        "id": "otG4clv7uVNP"
      }
    },
    {
      "cell_type": "code",
      "source": [
        "# Gráfico de barras del promedio de días de tránsito por nivel de servicio\n",
        "# Este gráfico es más útil para comparar promedios que un boxplot.\n",
        "plt.figure(figsize=(12, 6))\n",
        "sns.barplot(x='Service Level', y='dias_transito', data=df, errorbar=None)\n",
        "plt.title('Promedio de Días de Tránsito por Nivel de Servicio')\n",
        "plt.xlabel('Nivel de Servicio')\n",
        "plt.ylabel('Promedio de Días de Tránsito')\n",
        "plt.xticks(rotation=45, ha='right')\n",
        "plt.show()"
      ],
      "metadata": {
        "id": "nfnr5WrKuYgp"
      },
      "execution_count": null,
      "outputs": []
    },
    {
      "cell_type": "code",
      "source": [
        "# Gráfico de dispersión con línea de regresión (Scatterplot)\n",
        "# Este gráfico muestra los puntos individuales y una línea de tendencia para ver la relación.\n",
        "plt.figure(figsize=(10, 6))\n",
        "sns.regplot(x='Charge Weight', y='dias_transito', data=df, scatter_kws={'alpha': 0.3})\n",
        "plt.title('Días de Tránsito vs. Peso de Carga con Línea de Tendencia')\n",
        "plt.xlabel('Peso de Carga')\n",
        "plt.ylabel('Días de Tránsito')\n",
        "plt.show()"
      ],
      "metadata": {
        "id": "-JxqwFF5uqur"
      },
      "execution_count": null,
      "outputs": []
    },
    {
      "cell_type": "markdown",
      "source": [
        "ANÁLISIS DE TENDENCIAS Y PATRONES TEMPORALES"
      ],
      "metadata": {
        "id": "R_M2xJW9wjot"
      }
    },
    {
      "cell_type": "code",
      "source": [
        "print(\"\\n---\")\n",
        "print(\"ANÁLISIS DE SERIES DE TIEMPO:\")\n",
        "\n",
        "# Agrupar por fecha para analizar la tendencia de los días de tránsito\n",
        "# Select only the numerical column 'dias_transito' before resampling and calculating the mean\n",
        "df_diario = df.set_index('Pickup Date')['dias_transito'].resample('M').mean()\n",
        "\n",
        "plt.figure(figsize=(15, 6))\n",
        "plt.plot(df_diario.index, df_diario) # Plot the resampled series directly\n",
        "plt.title('Tendencia Mensual de Días de Tránsito')\n",
        "plt.xlabel('Fecha de Recolección')\n",
        "plt.ylabel('Promedio de Días de Tránsito')\n",
        "plt.show()\n",
        "\n",
        "print(\"\\nEDA completado. El dataset está listo para la ingeniería de características y el modelado.\")"
      ],
      "metadata": {
        "id": "hT6orhl1wuzD"
      },
      "execution_count": null,
      "outputs": []
    }
  ]
}